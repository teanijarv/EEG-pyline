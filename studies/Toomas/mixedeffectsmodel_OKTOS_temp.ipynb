{
 "cells": [
  {
   "cell_type": "code",
   "execution_count": 1,
   "metadata": {},
   "outputs": [],
   "source": [
    "# Import packages\n",
    "import mne, os\n",
    "import pandas as pd\n",
    "import statsmodels.formula.api as smf\n",
    "from sklearn.preprocessing import StandardScaler\n",
    "\n",
    "# Set the default directory (REMOVE THIS AS THIS IS RELEVANT ONLY TO MY PROJECT DIRECTORY)\n",
    "os.chdir('/Users/tanijarv/Documents/GitHub/EEG-pyline')"
   ]
  },
  {
   "cell_type": "code",
   "execution_count": 2,
   "metadata": {},
   "outputs": [],
   "source": [
    "# Folder where to save the results and plots\n",
    "results_folder = 'Results/'\n",
    "\n",
    "# Sub-folder for the experiment (i.e. timepoint or group) and its acronym\n",
    "exp_folder = 'OKTOS'\n",
    "\n",
    "# Channels and ERPs of interest\n",
    "channels = ['Cz', 'Pz']\n",
    "erp_measures = ['P3_latency', 'P3_amplitude']"
   ]
  },
  {
   "cell_type": "code",
   "execution_count": 3,
   "metadata": {},
   "outputs": [],
   "source": [
    "# Read the data\n",
    "df = pd.read_excel('{}/{}/OKTOS_AO_df.xlsx'.format(results_folder, exp_folder))"
   ]
  },
  {
   "cell_type": "code",
   "execution_count": 4,
   "metadata": {},
   "outputs": [
    {
     "name": "stdout",
     "output_type": "stream",
     "text": [
      "\n",
      "Channel: Cz\n",
      "                               Mixed Linear Model Regression Results\n",
      "===================================================================================================\n",
      "Model:                        MixedLM             Dependent Variable:             P3_latency_scaled\n",
      "No. Observations:             72                  Method:                         REML             \n",
      "No. Groups:                   24                  Scale:                          0.2189           \n",
      "Min. group size:              3                   Log-Likelihood:                 -86.5278         \n",
      "Max. group size:              3                   Converged:                      Yes              \n",
      "Mean group size:              3.0                                                                  \n",
      "---------------------------------------------------------------------------------------------------\n",
      "                                                         Coef.  Std.Err.   z    P>|z| [0.025 0.975]\n",
      "---------------------------------------------------------------------------------------------------\n",
      "Intercept                                                -0.004    0.326 -0.013 0.990 -0.643  0.634\n",
      "Timepoint[T.POST]                                         0.376    0.234  1.606 0.108 -0.083  0.834\n",
      "Timepoint[T.FUP]                                         -0.212    0.274 -0.774 0.439 -0.749  0.325\n",
      "Responder                                                -0.127    0.440 -0.288 0.773 -0.990  0.736\n",
      "Timepoint[T.POST]:Responder                              -0.184    0.366 -0.502 0.616 -0.900  0.533\n",
      "Timepoint[T.FUP]:Responder                                0.355    0.517  0.687 0.492 -0.659  1.369\n",
      "Group Var                                                 0.425    0.903                           \n",
      "Group x Timepoint[PRE]:Responder Cov                     -0.047    0.537                           \n",
      "Timepoint[PRE]:Responder Var                              0.624    1.420                           \n",
      "Group x Timepoint[POST]:Responder Cov                     0.220    0.335                           \n",
      "Timepoint[PRE]:Responder x Timepoint[POST]:Responder Cov  0.069    1.269                           \n",
      "Timepoint[POST]:Responder Var                             0.129                                    \n",
      "Group x Timepoint[FUP]:Responder Cov                      0.415    1.627                           \n",
      "Timepoint[PRE]:Responder x Timepoint[FUP]:Responder Cov  -0.196    1.618                           \n",
      "Timepoint[POST]:Responder x Timepoint[FUP]:Responder Cov  0.193    1.078                           \n",
      "Timepoint[FUP]:Responder Var                              0.446    1.294                           \n",
      "===================================================================================================\n",
      "\n"
     ]
    },
    {
     "name": "stderr",
     "output_type": "stream",
     "text": [
      "/Users/tanijarv/opt/anaconda3/lib/python3.9/site-packages/statsmodels/base/model.py:604: ConvergenceWarning: Maximum Likelihood optimization failed to converge. Check mle_retvals\n",
      "  warnings.warn(\"Maximum Likelihood optimization failed to \"\n",
      "/Users/tanijarv/opt/anaconda3/lib/python3.9/site-packages/statsmodels/regression/mixed_linear_model.py:2206: ConvergenceWarning: MixedLM optimization failed, trying a different optimizer may help.\n",
      "  warnings.warn(msg, ConvergenceWarning)\n",
      "/Users/tanijarv/opt/anaconda3/lib/python3.9/site-packages/statsmodels/regression/mixed_linear_model.py:2218: ConvergenceWarning: Gradient optimization failed, |grad| = 0.379935\n",
      "  warnings.warn(msg, ConvergenceWarning)\n"
     ]
    },
    {
     "name": "stdout",
     "output_type": "stream",
     "text": [
      "                               Mixed Linear Model Regression Results\n",
      "===================================================================================================\n",
      "Model:                        MixedLM            Dependent Variable:            P3_amplitude_scaled\n",
      "No. Observations:             72                 Method:                        REML               \n",
      "No. Groups:                   24                 Scale:                         0.3153             \n",
      "Min. group size:              3                  Log-Likelihood:                -90.9256           \n",
      "Max. group size:              3                  Converged:                     No                 \n",
      "Mean group size:              3.0                                                                  \n",
      "---------------------------------------------------------------------------------------------------\n",
      "                                                         Coef.  Std.Err.   z    P>|z| [0.025 0.975]\n",
      "---------------------------------------------------------------------------------------------------\n",
      "Intercept                                                -0.038    0.258 -0.148 0.883 -0.543  0.467\n",
      "Timepoint[T.POST]                                         0.063    0.281  0.224 0.823 -0.487  0.613\n",
      "Timepoint[T.FUP]                                          0.407    0.282  1.441 0.150 -0.147  0.960\n",
      "Responder                                                 0.091    0.362  0.250 0.803 -0.620  0.801\n",
      "Timepoint[T.POST]:Responder                              -0.544    0.428 -1.272 0.204 -1.382  0.294\n",
      "Timepoint[T.FUP]:Responder                               -0.414    0.420 -0.986 0.324 -1.236  0.409\n",
      "Group Var                                                 0.296    0.471                           \n",
      "Group x Timepoint[PRE]:Responder Cov                     -0.015    0.545                           \n",
      "Timepoint[PRE]:Responder Var                              0.731    1.318                           \n",
      "Group x Timepoint[POST]:Responder Cov                     0.241    0.478                           \n",
      "Timepoint[PRE]:Responder x Timepoint[POST]:Responder Cov  0.053    0.762                           \n",
      "Timepoint[POST]:Responder Var                             0.337    1.094                           \n",
      "Group x Timepoint[FUP]:Responder Cov                      0.106                                    \n",
      "Timepoint[PRE]:Responder x Timepoint[FUP]:Responder Cov   0.273    0.293                           \n",
      "Timepoint[POST]:Responder x Timepoint[FUP]:Responder Cov  0.162                                    \n",
      "Timepoint[FUP]:Responder Var                              0.168                                    \n",
      "===================================================================================================\n",
      "\n",
      "\n",
      "Channel: Pz\n"
     ]
    },
    {
     "name": "stderr",
     "output_type": "stream",
     "text": [
      "/Users/tanijarv/opt/anaconda3/lib/python3.9/site-packages/statsmodels/base/model.py:604: ConvergenceWarning: Maximum Likelihood optimization failed to converge. Check mle_retvals\n",
      "  warnings.warn(\"Maximum Likelihood optimization failed to \"\n",
      "/Users/tanijarv/opt/anaconda3/lib/python3.9/site-packages/statsmodels/regression/mixed_linear_model.py:2206: ConvergenceWarning: MixedLM optimization failed, trying a different optimizer may help.\n",
      "  warnings.warn(msg, ConvergenceWarning)\n",
      "/Users/tanijarv/opt/anaconda3/lib/python3.9/site-packages/statsmodels/regression/mixed_linear_model.py:2218: ConvergenceWarning: Gradient optimization failed, |grad| = 1.769191\n",
      "  warnings.warn(msg, ConvergenceWarning)\n",
      "/Users/tanijarv/opt/anaconda3/lib/python3.9/site-packages/statsmodels/regression/mixed_linear_model.py:2261: ConvergenceWarning: The Hessian matrix at the estimated parameter values is not positive definite.\n",
      "  warnings.warn(msg, ConvergenceWarning)\n"
     ]
    },
    {
     "name": "stdout",
     "output_type": "stream",
     "text": [
      "                               Mixed Linear Model Regression Results\n",
      "===================================================================================================\n",
      "Model:                        MixedLM             Dependent Variable:             P3_latency_scaled\n",
      "No. Observations:             72                  Method:                         REML             \n",
      "No. Groups:                   24                  Scale:                          0.1902           \n",
      "Min. group size:              3                   Log-Likelihood:                 -86.8130         \n",
      "Max. group size:              3                   Converged:                      No               \n",
      "Mean group size:              3.0                                                                  \n",
      "---------------------------------------------------------------------------------------------------\n",
      "                                                         Coef.  Std.Err.   z    P>|z| [0.025 0.975]\n",
      "---------------------------------------------------------------------------------------------------\n",
      "Intercept                                                 0.274    0.279  0.982 0.326 -0.273  0.820\n",
      "Timepoint[T.POST]                                        -0.233    0.218 -1.070 0.285 -0.661  0.194\n",
      "Timepoint[T.FUP]                                         -0.285    0.234 -1.214 0.225 -0.744  0.175\n",
      "Responder                                                -0.205    0.337 -0.608 0.543 -0.866  0.456\n",
      "Timepoint[T.POST]:Responder                              -0.181    0.433 -0.418 0.676 -1.029  0.667\n",
      "Timepoint[T.FUP]:Responder                                0.362    0.455  0.796 0.426 -0.529  1.253\n",
      "Group Var                                                 0.745    0.964                           \n",
      "Group x Timepoint[PRE]:Responder Cov                     -0.338    0.613                           \n",
      "Timepoint[PRE]:Responder Var                              0.700    0.547                           \n",
      "Group x Timepoint[POST]:Responder Cov                    -0.044    1.229                           \n",
      "Timepoint[PRE]:Responder x Timepoint[POST]:Responder Cov -0.373    0.792                           \n",
      "Timepoint[POST]:Responder Var                             0.340    1.731                           \n",
      "Group x Timepoint[FUP]:Responder Cov                      0.002    1.403                           \n",
      "Timepoint[PRE]:Responder x Timepoint[FUP]:Responder Cov  -0.230    1.339                           \n",
      "Timepoint[POST]:Responder x Timepoint[FUP]:Responder Cov  0.221    0.961                           \n",
      "Timepoint[FUP]:Responder Var                              0.196                                    \n",
      "===================================================================================================\n",
      "\n",
      "                               Mixed Linear Model Regression Results\n",
      "===================================================================================================\n",
      "Model:                        MixedLM            Dependent Variable:            P3_amplitude_scaled\n",
      "No. Observations:             72                 Method:                        REML               \n",
      "No. Groups:                   24                 Scale:                         0.1935             \n",
      "Min. group size:              3                  Log-Likelihood:                -83.1715           \n",
      "Max. group size:              3                  Converged:                     No                 \n",
      "Mean group size:              3.0                                                                  \n",
      "---------------------------------------------------------------------------------------------------\n",
      "                                                         Coef.  Std.Err.   z    P>|z| [0.025 0.975]\n",
      "---------------------------------------------------------------------------------------------------\n",
      "Intercept                                                -0.359    0.304 -1.182 0.237 -0.955  0.237\n",
      "Timepoint[T.POST]                                         0.315    0.220  1.432 0.152 -0.116  0.746\n",
      "Timepoint[T.FUP]                                          0.172    0.245  0.704 0.482 -0.308  0.653\n",
      "Responder                                                 0.716    0.294  2.436 0.015  0.140  1.293\n",
      "Timepoint[T.POST]:Responder                              -0.748    0.305 -2.454 0.014 -1.346 -0.151\n",
      "Timepoint[T.FUP]:Responder                               -0.394    0.342 -1.152 0.249 -1.064  0.276\n",
      "Group Var                                                 0.769    0.959                           \n",
      "Group x Timepoint[PRE]:Responder Cov                      0.000    0.688                           \n",
      "Timepoint[PRE]:Responder Var                              0.474    0.890                           \n",
      "Group x Timepoint[POST]:Responder Cov                    -0.128                                    \n",
      "Timepoint[PRE]:Responder x Timepoint[POST]:Responder Cov -0.018    0.424                           \n",
      "Timepoint[POST]:Responder Var                             0.023                                    \n",
      "Group x Timepoint[FUP]:Responder Cov                      0.094    0.928                           \n",
      "Timepoint[PRE]:Responder x Timepoint[FUP]:Responder Cov   0.007                                    \n",
      "Timepoint[POST]:Responder x Timepoint[FUP]:Responder Cov -0.019    0.588                           \n",
      "Timepoint[FUP]:Responder Var                              0.053    1.130                           \n",
      "===================================================================================================\n",
      "\n"
     ]
    },
    {
     "name": "stderr",
     "output_type": "stream",
     "text": [
      "/Users/tanijarv/opt/anaconda3/lib/python3.9/site-packages/statsmodels/base/model.py:604: ConvergenceWarning: Maximum Likelihood optimization failed to converge. Check mle_retvals\n",
      "  warnings.warn(\"Maximum Likelihood optimization failed to \"\n",
      "/Users/tanijarv/opt/anaconda3/lib/python3.9/site-packages/statsmodels/regression/mixed_linear_model.py:2206: ConvergenceWarning: MixedLM optimization failed, trying a different optimizer may help.\n",
      "  warnings.warn(msg, ConvergenceWarning)\n",
      "/Users/tanijarv/opt/anaconda3/lib/python3.9/site-packages/statsmodels/regression/mixed_linear_model.py:2218: ConvergenceWarning: Gradient optimization failed, |grad| = 1.749577\n",
      "  warnings.warn(msg, ConvergenceWarning)\n",
      "/Users/tanijarv/opt/anaconda3/lib/python3.9/site-packages/statsmodels/regression/mixed_linear_model.py:2261: ConvergenceWarning: The Hessian matrix at the estimated parameter values is not positive definite.\n",
      "  warnings.warn(msg, ConvergenceWarning)\n"
     ]
    }
   ],
   "source": [
    "# Go through all channels of interest\n",
    "for ch in channels:\n",
    "    print('\\nChannel: {}'.format(ch))\n",
    "    df_ch = df[df['Channel']==ch]\n",
    "\n",
    "    # Make the Timepoint a categorical column\n",
    "    df_ch_cat = df_ch.copy()\n",
    "    df_ch_cat['Timepoint'] = pd.Categorical(df_ch_cat['Timepoint'], categories=['PRE', 'POST', 'FUP'], ordered=True)\n",
    "\n",
    "    # Run Mixed Linear Model for all ERP measures of interest as dependent variable\n",
    "    for erp in erp_measures:\n",
    "        # Scale the ERP measure\n",
    "        scaler = StandardScaler()\n",
    "        erp_scaled = scaler.fit_transform(df_ch_cat[[erp]])\n",
    "        df_ch_cat[erp + '_scaled'] = erp_scaled\n",
    "\n",
    "        # Define the model as fixed effects being Timepoint and Responder and random effect being group (i.e., Subject)\n",
    "        model = smf.mixedlm('{} ~ Timepoint * Responder'.format(erp + '_scaled'), df_ch_cat, groups=df_ch_cat['Subject'], re_formula='Timepoint:Responder')\n",
    "        result = model.fit(method='lbfgs', maxiter=1000)\n",
    "        print(result.summary())"
   ]
  }
 ],
 "metadata": {
  "kernelspec": {
   "display_name": "base",
   "language": "python",
   "name": "python3"
  },
  "language_info": {
   "codemirror_mode": {
    "name": "ipython",
    "version": 3
   },
   "file_extension": ".py",
   "mimetype": "text/x-python",
   "name": "python",
   "nbconvert_exporter": "python",
   "pygments_lexer": "ipython3",
   "version": "3.9.12"
  },
  "orig_nbformat": 4
 },
 "nbformat": 4,
 "nbformat_minor": 2
}
