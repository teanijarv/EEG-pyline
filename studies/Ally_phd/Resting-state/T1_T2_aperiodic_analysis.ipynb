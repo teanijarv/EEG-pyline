{
 "cells": [
  {
   "cell_type": "code",
   "execution_count": null,
   "metadata": {},
   "outputs": [],
   "source": [
    "import pandas as pd\n",
    "import warnings"
   ]
  },
  {
   "cell_type": "code",
   "execution_count": null,
   "metadata": {},
   "outputs": [],
   "source": [
    "df = pd.read_excel('/Users/aliciacampbell/GitHub/pyline/EEG-pyline/Results/LEISURE_T1_T2/LEISURE_T1_T2_regions_aperiodiccomponents.xlsx')"
   ]
  },
  {
   "cell_type": "code",
   "execution_count": null,
   "metadata": {},
   "outputs": [],
   "source": [
    "# Filter for 'R_2' measure\n",
    "r2_df = df[df['Measure'] == 'R_2']\n",
    "\n",
    "# Melt the DataFrame to make 'Frontal', 'Temporal', 'Posterior' into row values\n",
    "melted_df = r2_df.melt(id_vars=['Subject', 'Condition', 'Timepoint', 'Measure'], \n",
    "                       value_vars=['Frontal', 'Temporal', 'Posterior'], \n",
    "                       var_name='Region', value_name='R2_Value')\n",
    "\n",
    "# Filter for rows where R2_Value is less than 0.9\n",
    "filtered_df = melted_df[melted_df['R2_Value'] < 0.9]\n",
    "\n",
    "# Select the required columns, including R2_Value\n",
    "R2_df = filtered_df[['Subject', 'Condition', 'Timepoint', 'Region', 'R2_Value']]"
   ]
  },
  {
   "cell_type": "code",
   "execution_count": null,
   "metadata": {},
   "outputs": [],
   "source": [
    "# Filter for 'Error' measure\n",
    "error_df = df[df['Measure'] == 'Error']\n",
    "\n",
    "# Melt the DataFrame to make 'Frontal', 'Temporal', 'Posterior' into row values\n",
    "melted_df = error_df.melt(id_vars=['Subject', 'Condition', 'Timepoint', 'Measure'], \n",
    "                          value_vars=['Frontal', 'Temporal', 'Posterior'], \n",
    "                          var_name='Region', value_name='Error_Value')\n",
    "\n",
    "# Filter for rows where Error_Value is greater than 0.1\n",
    "filtered_df = melted_df[melted_df['Error_Value'] > 0.1]\n",
    "\n",
    "# Select the required columns, including Error_Value\n",
    "errorabove_df = filtered_df[['Subject', 'Condition', 'Timepoint', 'Region', 'Error_Value']]"
   ]
  },
  {
   "cell_type": "code",
   "execution_count": null,
   "metadata": {},
   "outputs": [],
   "source": [
    "drop_t1_r2 = [sub for sub in R2_df['Subject'].unique() if 'T1' in sub]\n",
    "drop_t2_r2 = [sub for sub in R2_df['Subject'].unique() if 'T2' in sub]\n",
    "\n",
    "drop_t1_er = [sub for sub in errorabove_df['Subject'].unique() if 'T1' in sub]\n",
    "drop_t2_er = [sub for sub in errorabove_df['Subject'].unique() if 'T2' in sub]\n",
    "\n",
    "drop_man = ['HBA_0007_EC_T1', 'HBA_0007_EC_T2', 'HBA_0016_EC_T1', 'HBA_0060_EC_T2', 'HBA_0061_EC_T1']\n",
    "\n",
    "drop = set(drop_t1_r2+drop_t2_r2+drop_t1_er+drop_t2_er+drop_man) # save this as excel for dropped subjects\n",
    "\n",
    "\n",
    "df_dropped = df.loc[~df['Subject'].isin(drop)]\n",
    "df_dropped = df_dropped.loc[df_dropped['Measure'].isin(['Exponent', 'Offset'])] # subjects dropped, save this as excel"
   ]
  },
  {
   "cell_type": "code",
   "execution_count": null,
   "metadata": {},
   "outputs": [],
   "source": [
    "pd.DataFrame(drop).to_excel('/Users/aliciacampbell/GitHub/pyline/EEG-pyline/Results/LEISURE_T1_T2/LEISURE_T1_T2_regions_aperiodiccomponents_droppedIDx.xlsx')"
   ]
  },
  {
   "cell_type": "code",
   "execution_count": null,
   "metadata": {},
   "outputs": [],
   "source": [
    "df_dropped.to_excel('/Users/aliciacampbell/GitHub/pyline/EEG-pyline/Results/LEISURE_T1_T2/LEISURE_T1_T2_regions_aperiodiccomponents_dropped.xlsx')"
   ]
  },
  {
   "cell_type": "code",
   "execution_count": null,
   "metadata": {},
   "outputs": [],
   "source": [
    "df_dropped"
   ]
  },
  {
   "cell_type": "code",
   "execution_count": null,
   "metadata": {},
   "outputs": [],
   "source": [
    "df_dropped.loc[df_dropped['Timepoint']=='T2']"
   ]
  },
  {
   "cell_type": "markdown",
   "metadata": {},
   "source": [
    "Bad fits to drop manually that aren't included above already:\n",
    "\n",
    "HBA_0007 T1\tFrontal\n",
    "\n",
    "HBA_0007 T2\tFrontal\n",
    "\n",
    "HBA_0016 T1\tTemporal\n",
    "\n",
    "HBA_0060 T2\tTemporal\n",
    "\n",
    "HBA_0061 T1\tFrontal\n",
    "\n",
    "HBA_0061 T1\tTemporal"
   ]
  }
 ],
 "metadata": {
  "kernelspec": {
   "display_name": "eeg",
   "language": "python",
   "name": "python3"
  },
  "language_info": {
   "codemirror_mode": {
    "name": "ipython",
    "version": 3
   },
   "file_extension": ".py",
   "mimetype": "text/x-python",
   "name": "python",
   "nbconvert_exporter": "python",
   "pygments_lexer": "ipython3",
   "version": "3.12.0"
  }
 },
 "nbformat": 4,
 "nbformat_minor": 2
}
